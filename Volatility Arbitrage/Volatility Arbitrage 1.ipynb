{
 "cells": [
  {
   "cell_type": "markdown",
   "metadata": {},
   "source": [
    "Problem: Volatility Arbitrage Strategy Using Put Options\n",
    "You are given the following market data for a stock and its options:\n",
    "\n",
    "Stock Price (S) = $100\n",
    "Annualized Implied Volatility of an At-the-Money (ATM) Put Option (IV) = 30%\n",
    "Risk-Free Interest Rate (r) = 5%\n",
    "Time to Expiry (T) = 45 days\n",
    "Strike Price of ATM Put Option (K) = $100\n",
    "Market Price of the ATM Put Option = $6.50\n",
    "Your Task:\n",
    "Compute the Theoretical Put Price:\n",
    "\n",
    "Use the Black-Scholes formula for put options to calculate the theoretical price of the ATM put option.\n",
    "Assume no dividends.\n",
    "Identify an Arbitrage Opportunity:\n",
    "\n",
    "Suppose you estimate the realized volatility of the stock over the next 45 days to be 25% instead of the implied 30%.\n",
    "Would you buy or sell the ATM put option based on this information?\n",
    "Justify your answer with calculations."
   ]
  },
  {
   "cell_type": "code",
   "execution_count": 18,
   "metadata": {},
   "outputs": [
    {
     "name": "stdout",
     "output_type": "stream",
     "text": [
      "Theoretical Put Price (Implied): $4.599685\n",
      "Theoretical Put Price (Realized) : $3.764429\n"
     ]
    }
   ],
   "source": [
    "import numpy as np\n",
    "from scipy.stats import norm\n",
    "\n",
    "def Black_Scholes_Put (S_0,K,r,T,sigma):\n",
    "    D1 = (np.log(S_0/K) + (r+sigma**2/2)*T)/(sigma*np.sqrt(T))\n",
    "    D2 = D1 - (sigma*np.sqrt(T))\n",
    "    Put_Price = K*np.exp(-r*T)*norm.cdf(-D2) - S_0*norm.cdf(-D1)\n",
    "    return Put_Price\n",
    "\n",
    "S_0 = 100\n",
    "K = 100\n",
    "r = 0.05\n",
    "T = 45/252\n",
    "Implied_Volatility = 0.30\n",
    "Realized_Volatility = 0.25\n",
    "\n",
    "Theoretical_Put_Price_Implied = Black_Scholes_Put(S_0,K,r,T,Implied_Volatility)\n",
    "print(f\"Theoretical Put Price (Implied): ${Theoretical_Put_Price_Implied:.6f}\")\n",
    "\n",
    "Theoretical_Put_Price_Realized = Black_Scholes_Put(S_0,K,r,T,Realized_Volatility)\n",
    "print(f\"Theoretical Put Price (Realized) : ${Theoretical_Put_Price_Realized:.6f}\")\n"
   ]
  },
  {
   "cell_type": "code",
   "execution_count": null,
   "metadata": {},
   "outputs": [],
   "source": []
  }
 ],
 "metadata": {
  "kernelspec": {
   "display_name": "ENV01",
   "language": "python",
   "name": "python3"
  },
  "language_info": {
   "codemirror_mode": {
    "name": "ipython",
    "version": 3
   },
   "file_extension": ".py",
   "mimetype": "text/x-python",
   "name": "python",
   "nbconvert_exporter": "python",
   "pygments_lexer": "ipython3",
   "version": "3.13.2"
  }
 },
 "nbformat": 4,
 "nbformat_minor": 2
}
