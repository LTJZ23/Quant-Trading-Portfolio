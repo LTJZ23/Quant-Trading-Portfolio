{
 "cells": [
  {
   "cell_type": "markdown",
   "metadata": {},
   "source": [
    "Problem: Monte Carlo-Based Options Pricing\n",
    "Scenario:\n",
    "You are a quant trader analyzing the fair price of a European call option. The underlying asset follows a Geometric Brownian Motion (GBM) with a given drift (expected return) and volatility.\n",
    "\n",
    "Your Task:\n",
    "Use Monte Carlo simulation to estimate the price of a European call option given the following parameters:\n",
    "\n",
    "Stock price today (S₀): $100\n",
    "Strike price (K): $105\n",
    "Risk-free rate (r): 5% per annum\n",
    "Volatility (σ): 20% per annum\n",
    "Time to maturity (T): 1 year\n",
    "Number of Monte Carlo simulations: 100,000\n",
    "\n",
    "Questions   \n",
    "What is strike price? Options Payoff? Price of the option upon expiry \n",
    "How to use Geometric Brownian Motion (GBM)\n"
   ]
  },
  {
   "cell_type": "code",
   "execution_count": 11,
   "metadata": {},
   "outputs": [
    {
     "name": "stdout",
     "output_type": "stream",
     "text": [
      "Estimated European Call Option Price: $8.04\n"
     ]
    }
   ],
   "source": [
    "import numpy as np\n",
    "\n",
    "# Parameters\n",
    "Stock_Price_Today = 100  # Current stock price (S0)\n",
    "Strike_Price = 105       # Strike price (K)\n",
    "Risk_Free_Rate_Annual = 0.05  # Risk-free rate (r)\n",
    "Volatility_Annual = 0.2  # Volatility (σ)\n",
    "Maturity = 1  # Time to maturity in years (T)\n",
    "Simulations = 100000  # Number of Monte Carlo simulations\n",
    "\n",
    "# Set random seed for reproducibility\n",
    "np.random.seed(42)\n",
    "\n",
    "# Step 1: Generate random standard normal variables (ε ~ N(0,1))\n",
    "epsilon = np.random.normal(0, 1, Simulations)\n",
    "\n",
    "# Step 2: Compute the stock price at maturity using Geometric Brownian Motion (GBM)\n",
    "# Formula: S_T = S_0 * exp((r - 0.5σ²)T + σ√T * Z)\n",
    "Stock_Price_Maturity = Stock_Price_Today * np.exp(\n",
    "    (Risk_Free_Rate_Annual - 0.5 * Volatility_Annual**2) * Maturity  \n",
    "    + Volatility_Annual * np.sqrt(Maturity) * epsilon\n",
    ")\n",
    "\n",
    "# Step 3: Compute the call option payoff at maturity\n",
    "# Payoff formula: max(S_T - K, 0)\n",
    "Payoff = np.maximum(Stock_Price_Maturity - Strike_Price, 0)\n",
    "\n",
    "# Step 4: Compute the present value of expected payoff using risk-free discounting\n",
    "# Formula: C = e^(-rT) * E[max(S_T - K, 0)]\n",
    "option_price = np.exp(-Risk_Free_Rate_Annual * Maturity) * np.mean(Payoff)\n",
    "\n",
    "# Print the estimated option price\n",
    "print(f\"Estimated European Call Option Price: ${option_price:.2f}\")\n"
   ]
  },
  {
   "cell_type": "code",
   "execution_count": null,
   "metadata": {},
   "outputs": [],
   "source": []
  },
  {
   "cell_type": "code",
   "execution_count": null,
   "metadata": {},
   "outputs": [],
   "source": []
  }
 ],
 "metadata": {
  "kernelspec": {
   "display_name": "ENV01",
   "language": "python",
   "name": "python3"
  },
  "language_info": {
   "codemirror_mode": {
    "name": "ipython",
    "version": 3
   },
   "file_extension": ".py",
   "mimetype": "text/x-python",
   "name": "python",
   "nbconvert_exporter": "python",
   "pygments_lexer": "ipython3",
   "version": "3.13.2"
  }
 },
 "nbformat": 4,
 "nbformat_minor": 2
}
